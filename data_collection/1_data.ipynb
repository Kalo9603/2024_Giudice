{
 "cells": [
  {
   "cell_type": "markdown",
   "metadata": {},
   "source": [
    "# 1. Data Collection\n",
    "\n",
    "In questa fase mi sono focalizzato sulla raccolta dei dati e sulla generazione di un grafo che mette in relazione un campione di 28.870 artisti su **last.fm** con i relativi coefficienti di similarità.\n",
    "\n",
    "Il coefficiente di similarità tra due artisti è relativo, appunto, agli insiemi degli artisti simili relativi a quell'artista. Ne sono stati individuati di due tipi:\n",
    "\n",
    "- Il **Sample Ratio**, ovvero il rapporto tra la grandezza dell'intersezione degli artisti simili dei due artisti in esame e il numero di artisti campione fissato (quindi ad esempio 120 artisti in comune su 250);\n",
    "\n",
    "- Il **Jaccard Ratio**, il rapporto tra la medesima intersezione e la grandezza dell'insieme unione (ad esempio, 120 artisti in comune sulla somma di quelli comuni e non).\n",
    "\n",
    "Lo scopo è quello di generare un file CSV con le informazioni principali dei nodi e degli archi. Il tutto è stato necessario poiché non è stato trovato un file CSV di partenza e quindi è sorta la necessità di generarne uno da zero.\n",
    "\n",
    "Per far ciò ho sfruttato la potenza della programmazione a oggetti e l'API di last.fm.\n",
    "\n",
    "Il codice degli oggetti è disponibile nel package ```objects``` in questa cartella. Nota che per questioni di spazio la cache utilizzata per l'elaborazione non è stata inclusa nel repository. Per generare il dataset si avvia il file ```generate.py``` (se si vuole testarlo è sconsigliato date le tempistiche)."
   ]
  },
  {
   "cell_type": "markdown",
   "metadata": {},
   "source": [
    "## 1.1. Inizializzazione del dataset"
   ]
  },
  {
   "cell_type": "markdown",
   "metadata": {},
   "source": [
    "Si recuperano i dati presenti nel dataset generato, si calcolano quindi:\n",
    "* il numero totale di artisti;\n",
    "* il numero di archi trovati;\n",
    "* il numero di artisti unici in lista che sono collegati almeno con un altro;\n",
    "* la percentuale di artisti connessi sul totale."
   ]
  },
  {
   "cell_type": "code",
   "execution_count": 1,
   "metadata": {},
   "outputs": [
    {
     "name": "stdout",
     "output_type": "stream",
     "text": [
      "Trovati in totale 28870 artisti.\n",
      "11745 artisti unici, 98900 archi nel dataset.\n",
      "Il 40.68% degli artisti è connesso con almeno un altro artista.\n"
     ]
    }
   ],
   "source": [
    "import networkx as nx\n",
    "import matplotlib.pyplot as plt\n",
    "import csv\n",
    "import pandas as pd\n",
    "\n",
    "LINKS_PATH = \"data/links.csv\"\n",
    "ARTISTS_PATH = \"data/artists.csv\"\n",
    "\n",
    "adf = pd.read_csv(ARTISTS_PATH, encoding=\"utf-8\")\n",
    "ldf = pd.read_csv(LINKS_PATH, encoding=\"utf-8\")\n",
    "\n",
    "# Faccio una join delle colonne in modo da contare tutti gli ID presenti in entrambe le colonne IDArtista.\n",
    "ars = pd.concat([ldf[\"IDArtista1\"], ldf[\"IDArtista2\"]]).unique()\n",
    "cArs = round((ars.shape[0] / len(adf)) * 100, 2)\n",
    "\n",
    "print(f\"Trovati in totale {len(adf)} artisti.\\n{ars.shape[0]} artisti unici, {len(ldf)} archi nel dataset.\\nIl {cArs}% degli artisti è connesso con almeno un altro artista.\")"
   ]
  },
  {
   "cell_type": "markdown",
   "metadata": {},
   "source": [
    "## 1.2. Visualizzazione delle tabelle"
   ]
  },
  {
   "cell_type": "markdown",
   "metadata": {},
   "source": [
    "### Tabella degli artisti"
   ]
  },
  {
   "cell_type": "code",
   "execution_count": 2,
   "metadata": {},
   "outputs": [
    {
     "data": {
      "application/vnd.microsoft.datawrangler.viewer.v0+json": {
       "columns": [
        {
         "name": "index",
         "rawType": "int64",
         "type": "integer"
        },
        {
         "name": "ID",
         "rawType": "int64",
         "type": "integer"
        },
        {
         "name": "Artista",
         "rawType": "object",
         "type": "string"
        }
       ],
       "conversionMethod": "pd.DataFrame",
       "ref": "d8001d79-1c50-4497-b022-495184fe2484",
       "rows": [
        [
         "0",
         "1",
         "Annalisa"
        ],
        [
         "1",
         "2",
         "Giorgio Vanni"
        ],
        [
         "2",
         "3",
         "Katy Perry"
        ],
        [
         "3",
         "4",
         "Ado"
        ],
        [
         "4",
         "5",
         "Elodie"
        ],
        [
         "5",
         "6",
         "Emma"
        ],
        [
         "6",
         "7",
         "Angelina Mango"
        ],
        [
         "7",
         "8",
         "Rose Villain"
        ],
        [
         "8",
         "9",
         "Clara"
        ],
        [
         "9",
         "10",
         "Francesca Michielin"
        ],
        [
         "10",
         "11",
         "Mahmood"
        ],
        [
         "11",
         "12",
         "The Kolors"
        ],
        [
         "12",
         "13",
         "Mara Sattei"
        ],
        [
         "13",
         "14",
         "IRAMA"
        ],
        [
         "14",
         "15",
         "Marco Mengoni"
        ],
        [
         "15",
         "16",
         "Alessandra Amoroso"
        ],
        [
         "16",
         "17",
         "Elisa"
        ],
        [
         "17",
         "18",
         "Levante"
        ],
        [
         "18",
         "19",
         "Noemi"
        ],
        [
         "19",
         "20",
         "Paola & Chiara"
        ],
        [
         "20",
         "21",
         "Tananai"
        ],
        [
         "21",
         "22",
         "sangiovanni"
        ],
        [
         "22",
         "23",
         "Elettra Lamborghini"
        ],
        [
         "23",
         "24",
         "Giorgia"
        ],
        [
         "24",
         "25",
         "Ditonellapiaga"
        ],
        [
         "25",
         "26",
         "Arisa"
        ],
        [
         "26",
         "27",
         "Baby K"
        ],
        [
         "27",
         "28",
         "Alfa"
        ],
        [
         "28",
         "29",
         "Fedez"
        ],
        [
         "29",
         "30",
         "Loredana Bertè"
        ],
        [
         "30",
         "31",
         "Giusy Ferreri"
        ],
        [
         "31",
         "32",
         "La rappresentante di lista"
        ],
        [
         "32",
         "33",
         "Dargen D'Amico"
        ],
        [
         "33",
         "34",
         "Diodato"
        ],
        [
         "34",
         "35",
         "Pinguini Tattici Nucleari"
        ],
        [
         "35",
         "36",
         "Michele Bravi"
        ],
        [
         "36",
         "37",
         "Francesco Gabbani"
        ],
        [
         "37",
         "38",
         "Tiziano Ferro"
        ],
        [
         "38",
         "39",
         "Ermal Meta"
        ],
        [
         "39",
         "40",
         "Coma_Cose"
        ],
        [
         "40",
         "41",
         "Ghali"
        ],
        [
         "41",
         "42",
         "Takagi & Ketra"
        ],
        [
         "42",
         "43",
         "SANTI FRANCESI"
        ],
        [
         "43",
         "44",
         "Malika Ayane"
        ],
        [
         "44",
         "45",
         "Margherita Vicario"
        ],
        [
         "45",
         "46",
         "Ariette"
        ],
        [
         "46",
         "47",
         "Benji & Fede"
        ],
        [
         "47",
         "48",
         "GAZZELLE"
        ],
        [
         "48",
         "49",
         "Rocco Hunt"
        ],
        [
         "49",
         "50",
         "Thegiornalisti"
        ]
       ],
       "shape": {
        "columns": 2,
        "rows": 28870
       }
      },
      "text/html": [
       "<div>\n",
       "<style scoped>\n",
       "    .dataframe tbody tr th:only-of-type {\n",
       "        vertical-align: middle;\n",
       "    }\n",
       "\n",
       "    .dataframe tbody tr th {\n",
       "        vertical-align: top;\n",
       "    }\n",
       "\n",
       "    .dataframe thead th {\n",
       "        text-align: right;\n",
       "    }\n",
       "</style>\n",
       "<table border=\"1\" class=\"dataframe\">\n",
       "  <thead>\n",
       "    <tr style=\"text-align: right;\">\n",
       "      <th></th>\n",
       "      <th>ID</th>\n",
       "      <th>Artista</th>\n",
       "    </tr>\n",
       "  </thead>\n",
       "  <tbody>\n",
       "    <tr>\n",
       "      <th>0</th>\n",
       "      <td>1</td>\n",
       "      <td>Annalisa</td>\n",
       "    </tr>\n",
       "    <tr>\n",
       "      <th>1</th>\n",
       "      <td>2</td>\n",
       "      <td>Giorgio Vanni</td>\n",
       "    </tr>\n",
       "    <tr>\n",
       "      <th>2</th>\n",
       "      <td>3</td>\n",
       "      <td>Katy Perry</td>\n",
       "    </tr>\n",
       "    <tr>\n",
       "      <th>3</th>\n",
       "      <td>4</td>\n",
       "      <td>Ado</td>\n",
       "    </tr>\n",
       "    <tr>\n",
       "      <th>4</th>\n",
       "      <td>5</td>\n",
       "      <td>Elodie</td>\n",
       "    </tr>\n",
       "    <tr>\n",
       "      <th>...</th>\n",
       "      <td>...</td>\n",
       "      <td>...</td>\n",
       "    </tr>\n",
       "    <tr>\n",
       "      <th>28865</th>\n",
       "      <td>28866</td>\n",
       "      <td>浅香唯</td>\n",
       "    </tr>\n",
       "    <tr>\n",
       "      <th>28866</th>\n",
       "      <td>28867</td>\n",
       "      <td>Ribbon</td>\n",
       "    </tr>\n",
       "    <tr>\n",
       "      <th>28867</th>\n",
       "      <td>28868</td>\n",
       "      <td>松本伊代</td>\n",
       "    </tr>\n",
       "    <tr>\n",
       "      <th>28868</th>\n",
       "      <td>28869</td>\n",
       "      <td>Shinjou-P</td>\n",
       "    </tr>\n",
       "    <tr>\n",
       "      <th>28869</th>\n",
       "      <td>28870</td>\n",
       "      <td>North-T</td>\n",
       "    </tr>\n",
       "  </tbody>\n",
       "</table>\n",
       "<p>28870 rows × 2 columns</p>\n",
       "</div>"
      ],
      "text/plain": [
       "          ID        Artista\n",
       "0          1       Annalisa\n",
       "1          2  Giorgio Vanni\n",
       "2          3     Katy Perry\n",
       "3          4            Ado\n",
       "4          5         Elodie\n",
       "...      ...            ...\n",
       "28865  28866            浅香唯\n",
       "28866  28867         Ribbon\n",
       "28867  28868           松本伊代\n",
       "28868  28869      Shinjou-P\n",
       "28869  28870        North-T\n",
       "\n",
       "[28870 rows x 2 columns]"
      ]
     },
     "execution_count": 2,
     "metadata": {},
     "output_type": "execute_result"
    }
   ],
   "source": [
    "adf"
   ]
  },
  {
   "cell_type": "markdown",
   "metadata": {},
   "source": [
    "### Tabella degli archi con i rispettivi ratio\n",
    "\n",
    "Si è scelto di adottare un Ratio (indipendentemente se Sample o Jaccard) che sia al più superiore a ```50.0```.\n",
    "\n",
    "La tabella non è ordinata per ```IDArtista``` ma per istante in cui quell'arco è stato trovato.\n"
   ]
  },
  {
   "cell_type": "code",
   "execution_count": 3,
   "metadata": {},
   "outputs": [
    {
     "data": {
      "application/vnd.microsoft.datawrangler.viewer.v0+json": {
       "columns": [
        {
         "name": "index",
         "rawType": "int64",
         "type": "integer"
        },
        {
         "name": "IDArtista1",
         "rawType": "int64",
         "type": "integer"
        },
        {
         "name": "Artista1",
         "rawType": "object",
         "type": "string"
        },
        {
         "name": "IDArtista2",
         "rawType": "int64",
         "type": "integer"
        },
        {
         "name": "Artista2",
         "rawType": "object",
         "type": "string"
        },
        {
         "name": "SampleRatio",
         "rawType": "float64",
         "type": "float"
        },
        {
         "name": "JaccardRatio",
         "rawType": "float64",
         "type": "float"
        }
       ],
       "conversionMethod": "pd.DataFrame",
       "ref": "3a2120af-c408-4844-9dfc-9f6568e1192a",
       "rows": [
        [
         "0",
         "1",
         "Annalisa",
         "5",
         "Elodie",
         "80.0",
         "67.0"
        ],
        [
         "1",
         "1",
         "Annalisa",
         "6",
         "Emma",
         "75.0",
         "60.0"
        ],
        [
         "2",
         "1",
         "Annalisa",
         "9",
         "Clara",
         "67.0",
         "50.0"
        ],
        [
         "3",
         "1",
         "Annalisa",
         "10",
         "Francesca Michielin",
         "73.0",
         "57.99999999999999"
        ],
        [
         "4",
         "1",
         "Annalisa",
         "12",
         "The Kolors",
         "69.0",
         "53.0"
        ],
        [
         "5",
         "1",
         "Annalisa",
         "15",
         "Marco Mengoni",
         "74.0",
         "59.0"
        ],
        [
         "6",
         "1",
         "Annalisa",
         "16",
         "Alessandra Amoroso",
         "69.0",
         "53.0"
        ],
        [
         "7",
         "1",
         "Annalisa",
         "18",
         "Levante",
         "69.0",
         "53.0"
        ],
        [
         "8",
         "1",
         "Annalisa",
         "19",
         "Noemi",
         "68.0",
         "51.0"
        ],
        [
         "9",
         "1",
         "Annalisa",
         "20",
         "Paola & Chiara",
         "72.0",
         "56.99999999999999"
        ],
        [
         "10",
         "1",
         "Annalisa",
         "21",
         "Tananai",
         "69.0",
         "52.0"
        ],
        [
         "11",
         "1",
         "Annalisa",
         "22",
         "sangiovanni",
         "73.0",
         "57.99999999999999"
        ],
        [
         "12",
         "1",
         "Annalisa",
         "23",
         "Elettra Lamborghini",
         "66.0",
         "50.0"
        ],
        [
         "13",
         "1",
         "Annalisa",
         "24",
         "Giorgia",
         "70.0",
         "54.0"
        ],
        [
         "14",
         "1",
         "Annalisa",
         "26",
         "Arisa",
         "67.0",
         "50.0"
        ],
        [
         "15",
         "1",
         "Annalisa",
         "30",
         "Loredana Bertè",
         "67.0",
         "51.0"
        ],
        [
         "16",
         "1",
         "Annalisa",
         "31",
         "Giusy Ferreri",
         "70.0",
         "53.0"
        ],
        [
         "17",
         "1",
         "Annalisa",
         "34",
         "Diodato",
         "66.0",
         "50.0"
        ],
        [
         "18",
         "1",
         "Annalisa",
         "35",
         "Pinguini Tattici Nucleari",
         "67.0",
         "50.0"
        ],
        [
         "19",
         "1",
         "Annalisa",
         "36",
         "Michele Bravi",
         "67.0",
         "50.0"
        ],
        [
         "20",
         "1",
         "Annalisa",
         "39",
         "Ermal Meta",
         "68.0",
         "52.0"
        ],
        [
         "21",
         "1",
         "Annalisa",
         "42",
         "Takagi & Ketra",
         "66.0",
         "50.0"
        ],
        [
         "22",
         "1",
         "Annalisa",
         "44",
         "Malika Ayane",
         "67.0",
         "51.0"
        ],
        [
         "23",
         "1",
         "Annalisa",
         "46",
         "Ariette",
         "68.0",
         "51.0"
        ],
        [
         "24",
         "1",
         "Annalisa",
         "60",
         "Nina Zilli",
         "70.0",
         "53.0"
        ],
        [
         "25",
         "1",
         "Annalisa",
         "63",
         "Tommaso Paradiso",
         "68.0",
         "52.0"
        ],
        [
         "26",
         "1",
         "Annalisa",
         "93",
         "Modà",
         "67.0",
         "51.0"
        ],
        [
         "27",
         "1",
         "Annalisa",
         "94",
         "Lorenzo Fragola",
         "69.0",
         "53.0"
        ],
        [
         "28",
         "1",
         "Annalisa",
         "116",
         "Gigi D'Alessio",
         "67.0",
         "51.0"
        ],
        [
         "29",
         "7217",
         "Sophie",
         "7294",
         "GFOTY",
         "71.0",
         "55.00000000000001"
        ],
        [
         "30",
         "2",
         "Giorgio Vanni",
         "12",
         "The Kolors",
         "70.0",
         "54.0"
        ],
        [
         "31",
         "2",
         "Giorgio Vanni",
         "18",
         "Levante",
         "70.0",
         "54.0"
        ],
        [
         "32",
         "2",
         "Giorgio Vanni",
         "19",
         "Noemi",
         "72.0",
         "56.99999999999999"
        ],
        [
         "33",
         "2",
         "Giorgio Vanni",
         "21",
         "Tananai",
         "74.0",
         "59.0"
        ],
        [
         "34",
         "2",
         "Giorgio Vanni",
         "22",
         "sangiovanni",
         "67.0",
         "50.0"
        ],
        [
         "35",
         "2",
         "Giorgio Vanni",
         "24",
         "Giorgia",
         "70.0",
         "54.0"
        ],
        [
         "36",
         "2",
         "Giorgio Vanni",
         "26",
         "Arisa",
         "69.0",
         "52.0"
        ],
        [
         "37",
         "2",
         "Giorgio Vanni",
         "29",
         "Fedez",
         "68.0",
         "52.0"
        ],
        [
         "38",
         "2",
         "Giorgio Vanni",
         "30",
         "Loredana Bertè",
         "74.0",
         "59.0"
        ],
        [
         "39",
         "2",
         "Giorgio Vanni",
         "35",
         "Pinguini Tattici Nucleari",
         "78.0",
         "64.0"
        ],
        [
         "40",
         "2",
         "Giorgio Vanni",
         "37",
         "Francesco Gabbani",
         "68.0",
         "51.0"
        ],
        [
         "41",
         "2",
         "Giorgio Vanni",
         "38",
         "Tiziano Ferro",
         "72.0",
         "56.00000000000001"
        ],
        [
         "42",
         "2",
         "Giorgio Vanni",
         "40",
         "Coma_Cose",
         "76.0",
         "61.0"
        ],
        [
         "43",
         "2",
         "Giorgio Vanni",
         "44",
         "Malika Ayane",
         "71.0",
         "55.00000000000001"
        ],
        [
         "44",
         "2",
         "Giorgio Vanni",
         "45",
         "Margherita Vicario",
         "70.0",
         "54.0"
        ],
        [
         "45",
         "2",
         "Giorgio Vanni",
         "46",
         "Ariette",
         "70.0",
         "54.0"
        ],
        [
         "46",
         "2",
         "Giorgio Vanni",
         "48",
         "GAZZELLE",
         "78.0",
         "63.0"
        ],
        [
         "47",
         "2",
         "Giorgio Vanni",
         "51",
         "Calcutta",
         "74.0",
         "59.0"
        ],
        [
         "48",
         "2",
         "Giorgio Vanni",
         "55",
         "Anna Oxa",
         "70.0",
         "54.0"
        ],
        [
         "49",
         "2",
         "Giorgio Vanni",
         "57",
         "Fiorella Mannoia",
         "74.0",
         "57.99999999999999"
        ]
       ],
       "shape": {
        "columns": 6,
        "rows": 98900
       }
      },
      "text/html": [
       "<div>\n",
       "<style scoped>\n",
       "    .dataframe tbody tr th:only-of-type {\n",
       "        vertical-align: middle;\n",
       "    }\n",
       "\n",
       "    .dataframe tbody tr th {\n",
       "        vertical-align: top;\n",
       "    }\n",
       "\n",
       "    .dataframe thead th {\n",
       "        text-align: right;\n",
       "    }\n",
       "</style>\n",
       "<table border=\"1\" class=\"dataframe\">\n",
       "  <thead>\n",
       "    <tr style=\"text-align: right;\">\n",
       "      <th></th>\n",
       "      <th>IDArtista1</th>\n",
       "      <th>Artista1</th>\n",
       "      <th>IDArtista2</th>\n",
       "      <th>Artista2</th>\n",
       "      <th>SampleRatio</th>\n",
       "      <th>JaccardRatio</th>\n",
       "    </tr>\n",
       "  </thead>\n",
       "  <tbody>\n",
       "    <tr>\n",
       "      <th>0</th>\n",
       "      <td>1</td>\n",
       "      <td>Annalisa</td>\n",
       "      <td>5</td>\n",
       "      <td>Elodie</td>\n",
       "      <td>80.0</td>\n",
       "      <td>67.0</td>\n",
       "    </tr>\n",
       "    <tr>\n",
       "      <th>1</th>\n",
       "      <td>1</td>\n",
       "      <td>Annalisa</td>\n",
       "      <td>6</td>\n",
       "      <td>Emma</td>\n",
       "      <td>75.0</td>\n",
       "      <td>60.0</td>\n",
       "    </tr>\n",
       "    <tr>\n",
       "      <th>2</th>\n",
       "      <td>1</td>\n",
       "      <td>Annalisa</td>\n",
       "      <td>9</td>\n",
       "      <td>Clara</td>\n",
       "      <td>67.0</td>\n",
       "      <td>50.0</td>\n",
       "    </tr>\n",
       "    <tr>\n",
       "      <th>3</th>\n",
       "      <td>1</td>\n",
       "      <td>Annalisa</td>\n",
       "      <td>10</td>\n",
       "      <td>Francesca Michielin</td>\n",
       "      <td>73.0</td>\n",
       "      <td>58.0</td>\n",
       "    </tr>\n",
       "    <tr>\n",
       "      <th>4</th>\n",
       "      <td>1</td>\n",
       "      <td>Annalisa</td>\n",
       "      <td>12</td>\n",
       "      <td>The Kolors</td>\n",
       "      <td>69.0</td>\n",
       "      <td>53.0</td>\n",
       "    </tr>\n",
       "    <tr>\n",
       "      <th>...</th>\n",
       "      <td>...</td>\n",
       "      <td>...</td>\n",
       "      <td>...</td>\n",
       "      <td>...</td>\n",
       "      <td>...</td>\n",
       "      <td>...</td>\n",
       "    </tr>\n",
       "    <tr>\n",
       "      <th>98895</th>\n",
       "      <td>19779</td>\n",
       "      <td>Man Overboard</td>\n",
       "      <td>19897</td>\n",
       "      <td>Bearings</td>\n",
       "      <td>77.0</td>\n",
       "      <td>63.0</td>\n",
       "    </tr>\n",
       "    <tr>\n",
       "      <th>98896</th>\n",
       "      <td>19779</td>\n",
       "      <td>Man Overboard</td>\n",
       "      <td>19898</td>\n",
       "      <td>The Wonder Years</td>\n",
       "      <td>78.0</td>\n",
       "      <td>63.0</td>\n",
       "    </tr>\n",
       "    <tr>\n",
       "      <th>98897</th>\n",
       "      <td>19779</td>\n",
       "      <td>Man Overboard</td>\n",
       "      <td>19903</td>\n",
       "      <td>Four Year Strong</td>\n",
       "      <td>74.0</td>\n",
       "      <td>59.0</td>\n",
       "    </tr>\n",
       "    <tr>\n",
       "      <th>98898</th>\n",
       "      <td>19779</td>\n",
       "      <td>Man Overboard</td>\n",
       "      <td>19909</td>\n",
       "      <td>The Story So Far</td>\n",
       "      <td>80.0</td>\n",
       "      <td>66.0</td>\n",
       "    </tr>\n",
       "    <tr>\n",
       "      <th>98899</th>\n",
       "      <td>19779</td>\n",
       "      <td>Man Overboard</td>\n",
       "      <td>19954</td>\n",
       "      <td>Trash Boat</td>\n",
       "      <td>76.0</td>\n",
       "      <td>62.0</td>\n",
       "    </tr>\n",
       "  </tbody>\n",
       "</table>\n",
       "<p>98900 rows × 6 columns</p>\n",
       "</div>"
      ],
      "text/plain": [
       "       IDArtista1       Artista1  IDArtista2             Artista2  \\\n",
       "0               1       Annalisa           5               Elodie   \n",
       "1               1       Annalisa           6                 Emma   \n",
       "2               1       Annalisa           9                Clara   \n",
       "3               1       Annalisa          10  Francesca Michielin   \n",
       "4               1       Annalisa          12           The Kolors   \n",
       "...           ...            ...         ...                  ...   \n",
       "98895       19779  Man Overboard       19897             Bearings   \n",
       "98896       19779  Man Overboard       19898     The Wonder Years   \n",
       "98897       19779  Man Overboard       19903     Four Year Strong   \n",
       "98898       19779  Man Overboard       19909     The Story So Far   \n",
       "98899       19779  Man Overboard       19954           Trash Boat   \n",
       "\n",
       "       SampleRatio  JaccardRatio  \n",
       "0             80.0          67.0  \n",
       "1             75.0          60.0  \n",
       "2             67.0          50.0  \n",
       "3             73.0          58.0  \n",
       "4             69.0          53.0  \n",
       "...            ...           ...  \n",
       "98895         77.0          63.0  \n",
       "98896         78.0          63.0  \n",
       "98897         74.0          59.0  \n",
       "98898         80.0          66.0  \n",
       "98899         76.0          62.0  \n",
       "\n",
       "[98900 rows x 6 columns]"
      ]
     },
     "execution_count": 3,
     "metadata": {},
     "output_type": "execute_result"
    }
   ],
   "source": [
    "ldf"
   ]
  },
  {
   "cell_type": "markdown",
   "metadata": {},
   "source": [
    "## 1.3. Generazione del grafo\n",
    "\n",
    "Per fare ciò si opta per la libreria ```networkx```.\n",
    "Si svolgono i medesimi calcoli come da sopra, ma utilizzando la libreria:"
   ]
  },
  {
   "cell_type": "code",
   "execution_count": 4,
   "metadata": {},
   "outputs": [],
   "source": [
    "g = nx.Graph()\n",
    "g.add_nodes_from(ars)\n",
    "\n",
    "nodes = g.number_of_nodes()\n",
    "jaccard = False\n",
    "\n",
    "with open(LINKS_PATH, \"r\", encoding=\"utf-8\") as f:\n",
    "    \n",
    "    reader = csv.reader(f)\n",
    "    next(reader)\n",
    "    \n",
    "    for parts in reader:\n",
    "        if len(parts) < 6:\n",
    "            continue\n",
    "        \n",
    "        id1, ar1, id2, ar2, sRatio, jRatio = parts[:6]\n",
    "        \n",
    "        try:\n",
    "            id1 = int(id1)\n",
    "            id2 = int(id2)\n",
    "            sRatio = float(sRatio)\n",
    "            jRatio = float(jRatio)\n",
    "        except ValueError:\n",
    "            continue\n",
    "        \n",
    "        g.add_edge(id1, id2, sRatio=sRatio, jRatio=jRatio)\n",
    "        \n",
    "        g.nodes[id1][\"name\"] = ar1\n",
    "        g.nodes[id2][\"name\"] = ar2"
   ]
  },
  {
   "cell_type": "markdown",
   "metadata": {},
   "source": [
    "Qui di seguito le generalità del grafo:"
   ]
  },
  {
   "cell_type": "code",
   "execution_count": 5,
   "metadata": {},
   "outputs": [
    {
     "name": "stdout",
     "output_type": "stream",
     "text": [
      "11745 artisti connessi su 28870 (40.68%).\n",
      "98890 archi nel dataset.\n",
      "Il grafo non è orientato.\n"
     ]
    }
   ],
   "source": [
    "edges = g.number_of_edges()\n",
    "directed = \"\" if g.is_directed() else \" non\"\n",
    "\n",
    "print(f\"{nodes} artisti connessi su {len(adf)} ({round((nodes / len(adf)) * 100, 2)}%).\\n{edges} archi nel dataset.\\nIl grafo{directed} è orientato.\")"
   ]
  },
  {
   "cell_type": "markdown",
   "metadata": {},
   "source": [
    "Gli artisti connessi sono dunque i seguenti:"
   ]
  },
  {
   "cell_type": "code",
   "execution_count": 6,
   "metadata": {},
   "outputs": [
    {
     "data": {
      "application/vnd.microsoft.datawrangler.viewer.v0+json": {
       "columns": [
        {
         "name": "index",
         "rawType": "int64",
         "type": "integer"
        },
        {
         "name": "ID",
         "rawType": "int64",
         "type": "integer"
        },
        {
         "name": "Artista",
         "rawType": "object",
         "type": "string"
        }
       ],
       "conversionMethod": "pd.DataFrame",
       "ref": "625e7423-4f7b-4229-99ab-580ffcaa61c2",
       "rows": [
        [
         "0",
         "1",
         "Annalisa"
        ],
        [
         "1",
         "2",
         "Giorgio Vanni"
        ],
        [
         "2",
         "3",
         "Katy Perry"
        ],
        [
         "3",
         "4",
         "Ado"
        ],
        [
         "4",
         "5",
         "Elodie"
        ],
        [
         "5",
         "6",
         "Emma"
        ],
        [
         "6",
         "7",
         "Angelina Mango"
        ],
        [
         "7",
         "8",
         "Rose Villain"
        ],
        [
         "8",
         "9",
         "Clara"
        ],
        [
         "9",
         "10",
         "Francesca Michielin"
        ],
        [
         "10",
         "11",
         "Mahmood"
        ],
        [
         "11",
         "12",
         "The Kolors"
        ],
        [
         "14",
         "15",
         "Marco Mengoni"
        ],
        [
         "15",
         "16",
         "Alessandra Amoroso"
        ],
        [
         "17",
         "18",
         "Levante"
        ],
        [
         "18",
         "19",
         "Noemi"
        ],
        [
         "19",
         "20",
         "Paola & Chiara"
        ],
        [
         "20",
         "21",
         "Tananai"
        ],
        [
         "21",
         "22",
         "sangiovanni"
        ],
        [
         "22",
         "23",
         "Elettra Lamborghini"
        ],
        [
         "23",
         "24",
         "Giorgia"
        ],
        [
         "25",
         "26",
         "Arisa"
        ],
        [
         "26",
         "27",
         "Baby K"
        ],
        [
         "27",
         "28",
         "Alfa"
        ],
        [
         "28",
         "29",
         "Fedez"
        ],
        [
         "29",
         "30",
         "Loredana Bertè"
        ],
        [
         "30",
         "31",
         "Giusy Ferreri"
        ],
        [
         "31",
         "32",
         "La rappresentante di lista"
        ],
        [
         "32",
         "33",
         "Dargen D'Amico"
        ],
        [
         "33",
         "34",
         "Diodato"
        ],
        [
         "34",
         "35",
         "Pinguini Tattici Nucleari"
        ],
        [
         "35",
         "36",
         "Michele Bravi"
        ],
        [
         "36",
         "37",
         "Francesco Gabbani"
        ],
        [
         "37",
         "38",
         "Tiziano Ferro"
        ],
        [
         "38",
         "39",
         "Ermal Meta"
        ],
        [
         "39",
         "40",
         "Coma_Cose"
        ],
        [
         "40",
         "41",
         "Ghali"
        ],
        [
         "41",
         "42",
         "Takagi & Ketra"
        ],
        [
         "42",
         "43",
         "SANTI FRANCESI"
        ],
        [
         "43",
         "44",
         "Malika Ayane"
        ],
        [
         "44",
         "45",
         "Margherita Vicario"
        ],
        [
         "45",
         "46",
         "Ariette"
        ],
        [
         "46",
         "47",
         "Benji & Fede"
        ],
        [
         "47",
         "48",
         "GAZZELLE"
        ],
        [
         "49",
         "50",
         "Thegiornalisti"
        ],
        [
         "50",
         "51",
         "Calcutta"
        ],
        [
         "51",
         "52",
         "Kaleen"
        ],
        [
         "53",
         "54",
         "Emanuele Aloia"
        ],
        [
         "54",
         "55",
         "Anna Oxa"
        ],
        [
         "56",
         "57",
         "Fiorella Mannoia"
        ]
       ],
       "shape": {
        "columns": 2,
        "rows": 11745
       }
      },
      "text/html": [
       "<div>\n",
       "<style scoped>\n",
       "    .dataframe tbody tr th:only-of-type {\n",
       "        vertical-align: middle;\n",
       "    }\n",
       "\n",
       "    .dataframe tbody tr th {\n",
       "        vertical-align: top;\n",
       "    }\n",
       "\n",
       "    .dataframe thead th {\n",
       "        text-align: right;\n",
       "    }\n",
       "</style>\n",
       "<table border=\"1\" class=\"dataframe\">\n",
       "  <thead>\n",
       "    <tr style=\"text-align: right;\">\n",
       "      <th></th>\n",
       "      <th>ID</th>\n",
       "      <th>Artista</th>\n",
       "    </tr>\n",
       "  </thead>\n",
       "  <tbody>\n",
       "    <tr>\n",
       "      <th>0</th>\n",
       "      <td>1</td>\n",
       "      <td>Annalisa</td>\n",
       "    </tr>\n",
       "    <tr>\n",
       "      <th>1</th>\n",
       "      <td>2</td>\n",
       "      <td>Giorgio Vanni</td>\n",
       "    </tr>\n",
       "    <tr>\n",
       "      <th>2</th>\n",
       "      <td>3</td>\n",
       "      <td>Katy Perry</td>\n",
       "    </tr>\n",
       "    <tr>\n",
       "      <th>3</th>\n",
       "      <td>4</td>\n",
       "      <td>Ado</td>\n",
       "    </tr>\n",
       "    <tr>\n",
       "      <th>4</th>\n",
       "      <td>5</td>\n",
       "      <td>Elodie</td>\n",
       "    </tr>\n",
       "    <tr>\n",
       "      <th>...</th>\n",
       "      <td>...</td>\n",
       "      <td>...</td>\n",
       "    </tr>\n",
       "    <tr>\n",
       "      <th>28851</th>\n",
       "      <td>28852</td>\n",
       "      <td>OnlyOneOf</td>\n",
       "    </tr>\n",
       "    <tr>\n",
       "      <th>28852</th>\n",
       "      <td>28853</td>\n",
       "      <td>Gsoul</td>\n",
       "    </tr>\n",
       "    <tr>\n",
       "      <th>28862</th>\n",
       "      <td>28863</td>\n",
       "      <td>酒井法子</td>\n",
       "    </tr>\n",
       "    <tr>\n",
       "      <th>28865</th>\n",
       "      <td>28866</td>\n",
       "      <td>浅香唯</td>\n",
       "    </tr>\n",
       "    <tr>\n",
       "      <th>28868</th>\n",
       "      <td>28869</td>\n",
       "      <td>Shinjou-P</td>\n",
       "    </tr>\n",
       "  </tbody>\n",
       "</table>\n",
       "<p>11745 rows × 2 columns</p>\n",
       "</div>"
      ],
      "text/plain": [
       "          ID        Artista\n",
       "0          1       Annalisa\n",
       "1          2  Giorgio Vanni\n",
       "2          3     Katy Perry\n",
       "3          4            Ado\n",
       "4          5         Elodie\n",
       "...      ...            ...\n",
       "28851  28852      OnlyOneOf\n",
       "28852  28853          Gsoul\n",
       "28862  28863           酒井法子\n",
       "28865  28866            浅香唯\n",
       "28868  28869      Shinjou-P\n",
       "\n",
       "[11745 rows x 2 columns]"
      ]
     },
     "execution_count": 6,
     "metadata": {},
     "output_type": "execute_result"
    }
   ],
   "source": [
    "conIDs = set(g.nodes)\n",
    "\n",
    "conAdfIDs = adf[adf[\"ID\"].isin(conIDs)].sort_values(by='ID', ascending=True)\n",
    "conAdfIDs"
   ]
  },
  {
   "cell_type": "markdown",
   "metadata": {},
   "source": [
    "➡️ 2. [Network Analysis](../network_analysis/2_analysis.ipynb)"
   ]
  }
 ],
 "metadata": {
  "kernelspec": {
   "display_name": ".venv",
   "language": "python",
   "name": "python3"
  },
  "language_info": {
   "codemirror_mode": {
    "name": "ipython",
    "version": 3
   },
   "file_extension": ".py",
   "mimetype": "text/x-python",
   "name": "python",
   "nbconvert_exporter": "python",
   "pygments_lexer": "ipython3",
   "version": "3.12.8"
  }
 },
 "nbformat": 4,
 "nbformat_minor": 2
}
