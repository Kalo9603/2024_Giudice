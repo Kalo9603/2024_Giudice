{
 "cells": [
  {
   "cell_type": "markdown",
   "metadata": {},
   "source": [
    "# 1. Data Collection\n",
    "\n",
    "In questa fase mi sono focalizzato sulla raccolta dei dati e sulla generazione di un grafo che mette in relazione un campione di 28.870 artisti su **last.fm** con i relativi coefficienti di similarità.\n",
    "\n",
    "Il coefficiente di similarità tra due artisti è relativo, appunto, agli insiemi degli artisti simili relativi a quell'artista. Ne sono stati individuati di due tipi:\n",
    "\n",
    "- Il **Sample Ratio**, ovvero il rapporto tra la grandezza dell'intersezione degli artisti simili dei due artisti in esame e il numero di artisti campione fissato (quindi ad esempio 120 artisti in comune su 250);\n",
    "\n",
    "- Il **Jaccard Ratio**, il rapporto tra la medesima intersezione e la grandezza dell'insieme unione (ad esempio, 120 artisti in comune sulla somma di quelli comuni e non).\n",
    "\n",
    "Lo scopo è quello di generare un file CSV con le informazioni principali dei nodi e degli archi. Il tutto è stato necessario poiché non è stato trovato un file CSV di partenza e quindi è sorta la necessità di generarne uno da zero.\n",
    "\n",
    "Per far ciò ho sfruttato la potenza della programmazione a oggetti e l'API di last.fm.\n",
    "\n",
    "Il codice degli oggetti è disponibile nel package ```objects``` in questa cartella. Nota che per questioni di spazio la cache utilizzata per l'elaborazione non è stata inclusa nel repository. Per generare il dataset si avvia il file ```generate.py``` (se si vuole testarlo è sconsigliato date le tempistiche)."
   ]
  },
  {
   "cell_type": "markdown",
   "metadata": {},
   "source": [
    "## 1.1. Inizializzazione del dataset"
   ]
  },
  {
   "cell_type": "markdown",
   "metadata": {},
   "source": [
    "Si recuperano i dati presenti nel dataset generato, si calcolano quindi:\n",
    "* il numero totale di artisti;\n",
    "* il numero di archi trovati;\n",
    "* il numero di artisti unici in lista che sono collegati almeno con un altro;\n",
    "* la percentuale di artisti connessi sul totale."
   ]
  },
  {
   "cell_type": "code",
   "execution_count": null,
   "metadata": {},
   "outputs": [],
   "source": [
    "import networkx as nx\n",
    "import matplotlib.pyplot as plt\n",
    "import csv\n",
    "import pandas as pd\n",
    "\n",
    "LINKS_PATH = \"data/links.csv\"\n",
    "ARTISTS_PATH = \"data/artists.csv\"\n",
    "\n",
    "adf = pd.read_csv(ARTISTS_PATH, encoding=\"utf-8\")\n",
    "ldf = pd.read_csv(LINKS_PATH, encoding=\"utf-8\")\n",
    "\n",
    "# Faccio una join delle colonne in modo da contare tutti gli ID presenti in entrambe le colonne IDArtista.\n",
    "ars = pd.concat([ldf[\"IDArtista1\"], ldf[\"IDArtista2\"]]).unique()\n",
    "cArs = round((ars.shape[0] / len(adf)) * 100, 2)\n",
    "\n",
    "print(f\"Trovati in totale {len(adf)} artisti.\\n{ars.shape[0]} artisti unici, {len(ldf)} archi nel dataset.\\nIl {cArs}% degli artisti è connesso con almeno un altro artista.\")"
   ]
  },
  {
   "cell_type": "markdown",
   "metadata": {},
   "source": [
    "## 1.2. Visualizzazione delle tabelle"
   ]
  },
  {
   "cell_type": "markdown",
   "metadata": {},
   "source": [
    "### Tabella degli artisti"
   ]
  },
  {
   "cell_type": "code",
   "execution_count": null,
   "metadata": {},
   "outputs": [],
   "source": [
    "adf"
   ]
  },
  {
   "cell_type": "markdown",
   "metadata": {},
   "source": [
    "### Tabella degli archi con i rispettivi ratio\n",
    "\n",
    "Si è scelto di adottare un Ratio (indipendentemente se Sample o Jaccard) che sia al più superiore a ```50.0```.\n",
    "\n",
    "La tabella non è ordinata per ```IDArtista``` ma per istante in cui quell'arco è stato trovato.\n"
   ]
  },
  {
   "cell_type": "code",
   "execution_count": null,
   "metadata": {},
   "outputs": [],
   "source": [
    "ldf"
   ]
  },
  {
   "cell_type": "markdown",
   "metadata": {},
   "source": [
    "## 1.3. Generazione del grafo\n",
    "\n",
    "Per fare ciò si opta per la libreria ```networkx```.\n",
    "Si svolgono i medesimi calcoli come da sopra, ma utilizzando la libreria:"
   ]
  },
  {
   "cell_type": "code",
   "execution_count": null,
   "metadata": {},
   "outputs": [],
   "source": [
    "g = nx.Graph()\n",
    "g.add_nodes_from(ars)\n",
    "\n",
    "nodes = g.number_of_nodes()\n",
    "jaccard = False\n",
    "\n",
    "with open(LINKS_PATH, \"r\", encoding=\"utf-8\") as f:\n",
    "    \n",
    "    reader = csv.reader(f)\n",
    "    next(reader)\n",
    "    \n",
    "    for parts in reader:\n",
    "        if len(parts) < 6:\n",
    "            continue\n",
    "        \n",
    "        id1, ar1, id2, ar2, sRatio, jRatio = parts[:6]\n",
    "        \n",
    "        try:\n",
    "            id1 = int(id1)\n",
    "            id2 = int(id2)\n",
    "            sRatio = float(sRatio)\n",
    "            jRatio = float(jRatio)\n",
    "        except ValueError:\n",
    "            continue\n",
    "        \n",
    "        g.add_edge(id1, id2, sRatio=sRatio, jRatio=jRatio)\n",
    "        \n",
    "        g.nodes[id1][\"name\"] = ar1\n",
    "        g.nodes[id2][\"name\"] = ar2"
   ]
  },
  {
   "cell_type": "markdown",
   "metadata": {},
   "source": [
    "Qui di seguito le generalità del grafo:"
   ]
  },
  {
   "cell_type": "code",
   "execution_count": null,
   "metadata": {},
   "outputs": [],
   "source": [
    "edges = g.number_of_edges()\n",
    "directed = \"\" if g.is_directed() else \" non\"\n",
    "\n",
    "print(f\"{nodes} artisti connessi su {len(adf)} ({round((nodes / len(adf)) * 100, 2)}%).\\n{edges} archi nel dataset.\\nIl grafo{directed} è orientato.\")"
   ]
  },
  {
   "cell_type": "markdown",
   "metadata": {},
   "source": [
    "Gli artisti connessi sono dunque i seguenti:"
   ]
  },
  {
   "cell_type": "code",
   "execution_count": null,
   "metadata": {},
   "outputs": [],
   "source": [
    "conIDs = set(g.nodes)\n",
    "\n",
    "conAdfIDs = adf[adf[\"ID\"].isin(conIDs)].sort_values(by='ID', ascending=True)\n",
    "conAdfIDs"
   ]
  },
  {
   "cell_type": "markdown",
   "metadata": {},
   "source": [
    "➡️ 2. [Network Analysis](../network_analysis/2_analysis.ipynb)"
   ]
  }
 ],
 "metadata": {
  "kernelspec": {
   "display_name": ".venv",
   "language": "python",
   "name": "python3"
  },
  "language_info": {
   "codemirror_mode": {
    "name": "ipython",
    "version": 3
   },
   "file_extension": ".py",
   "mimetype": "text/x-python",
   "name": "python",
   "nbconvert_exporter": "python",
   "pygments_lexer": "ipython3",
   "version": "3.12.10"
  }
 },
 "nbformat": 4,
 "nbformat_minor": 2
}
